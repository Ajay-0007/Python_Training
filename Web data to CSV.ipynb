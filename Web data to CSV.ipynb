{
    "cells": [
        {
            "cell_type": "code",
            "execution_count": 16,
            "id": "371d4b70-c8a5-4d37-9204-7eeeecb5c9fc",
            "metadata": {
                "tags": []
            },
            "outputs": [
                {
                    "name": "stderr",
                    "output_type": "stream",
                    "text": "'mamba' is not recognized as an internal or external command,\noperable program or batch file.\n'mamba' is not recognized as an internal or external command,\noperable program or batch file.\n"
                },
                {
                    "name": "stdout",
                    "output_type": "stream",
                    "text": "Requirement already satisfied: lxml==4.6.4 in d:\\anaconda3\\lib\\site-packages (4.6.4)\n"
                }
            ],
            "source": "#!pip install pandas==1.3.3\n#!pip install requests==2.26.0\n!mamba install bs4==4.10.0 -y\n!mamba install html5lib==1.1 -y\n!pip install lxml==4.6.4\n#!pip install plotly==5.3.1"
        },
        {
            "cell_type": "code",
            "execution_count": 18,
            "id": "17632a6c-7acd-4d3c-a144-358fa5316928",
            "metadata": {
                "tags": []
            },
            "outputs": [],
            "source": "import pandas as pd\nimport requests\nfrom bs4 import BeautifulSoup"
        },
        {
            "cell_type": "code",
            "execution_count": 44,
            "id": "2d24f537-7194-4a26-959b-168d8ec896fa",
            "metadata": {},
            "outputs": [],
            "source": "url ='https://data.sa.gov.au/data/dataset/c34c0eb1-373b-404a-ad16-e993e6408f50/resource/a78b4b4f-834f-4e90-b38a-b3f12750bea5/download/qr_checkin_reporting.csv'\ndf = pd.read_csv(url)\n#df = pd.read_csv(url,header=None)"
        },
        {
            "cell_type": "code",
            "execution_count": 45,
            "id": "d7adc16f-c89a-4f99-9023-8a131d353d09",
            "metadata": {},
            "outputs": [
                {
                    "data": {
                        "text/html": "<div>\n<style scoped>\n    .dataframe tbody tr th:only-of-type {\n        vertical-align: middle;\n    }\n\n    .dataframe tbody tr th {\n        vertical-align: top;\n    }\n\n    .dataframe thead th {\n        text-align: right;\n    }\n</style>\n<table border=\"1\" class=\"dataframe\">\n  <thead>\n    <tr style=\"text-align: right;\">\n      <th></th>\n      <th>Date</th>\n      <th>CheckIns</th>\n      <th>ActiveOrganisations</th>\n      <th>UniqueMobiles</th>\n      <th>CheckInsCumulative</th>\n      <th>ActiveOrganisationsCumulative</th>\n      <th>UniqueMobilesCumulative</th>\n      <th>DeletionsCumulative</th>\n    </tr>\n  </thead>\n  <tbody>\n    <tr>\n      <th>0</th>\n      <td>11-30-2020</td>\n      <td>4015</td>\n      <td>1299</td>\n      <td>3670.0</td>\n      <td>4015</td>\n      <td>1299</td>\n      <td>3670</td>\n      <td>0</td>\n    </tr>\n    <tr>\n      <th>1</th>\n      <td>12-01-2020</td>\n      <td>217045</td>\n      <td>11011</td>\n      <td>169249.0</td>\n      <td>221060</td>\n      <td>11200</td>\n      <td>171076</td>\n      <td>0</td>\n    </tr>\n    <tr>\n      <th>2</th>\n      <td>12-02-2020</td>\n      <td>380087</td>\n      <td>15241</td>\n      <td>259931.0</td>\n      <td>601147</td>\n      <td>16892</td>\n      <td>345614</td>\n      <td>0</td>\n    </tr>\n    <tr>\n      <th>3</th>\n      <td>12-03-2020</td>\n      <td>472352</td>\n      <td>16851</td>\n      <td>304865.0</td>\n      <td>1073499</td>\n      <td>19989</td>\n      <td>476447</td>\n      <td>0</td>\n    </tr>\n    <tr>\n      <th>4</th>\n      <td>12-04-2020</td>\n      <td>561530</td>\n      <td>17109</td>\n      <td>342564.0</td>\n      <td>1635029</td>\n      <td>21721</td>\n      <td>578250</td>\n      <td>0</td>\n    </tr>\n    <tr>\n      <th>...</th>\n      <td>...</td>\n      <td>...</td>\n      <td>...</td>\n      <td>...</td>\n      <td>...</td>\n      <td>...</td>\n      <td>...</td>\n      <td>...</td>\n    </tr>\n    <tr>\n      <th>420</th>\n      <td>01-24-2022</td>\n      <td>1356855</td>\n      <td>36598</td>\n      <td>568446.0</td>\n      <td>615552047</td>\n      <td>107334</td>\n      <td>2171508</td>\n      <td>577245149</td>\n    </tr>\n    <tr>\n      <th>421</th>\n      <td>01-25-2022</td>\n      <td>1475328</td>\n      <td>38303</td>\n      <td>597685.0</td>\n      <td>617027375</td>\n      <td>107384</td>\n      <td>2173110</td>\n      <td>578410921</td>\n    </tr>\n    <tr>\n      <th>422</th>\n      <td>01-26-2022</td>\n      <td>742380</td>\n      <td>15643</td>\n      <td>394654.0</td>\n      <td>617769755</td>\n      <td>107438</td>\n      <td>2174863</td>\n      <td>580053739</td>\n    </tr>\n    <tr>\n      <th>423</th>\n      <td>01-27-2022</td>\n      <td>1477799</td>\n      <td>39245</td>\n      <td>591176.0</td>\n      <td>619247554</td>\n      <td>107479</td>\n      <td>2176877</td>\n      <td>581690286</td>\n    </tr>\n    <tr>\n      <th>424</th>\n      <td>01-28-2022</td>\n      <td>1534921</td>\n      <td>38913</td>\n      <td>605008.0</td>\n      <td>620782475</td>\n      <td>107536</td>\n      <td>2178906</td>\n      <td>583257620</td>\n    </tr>\n  </tbody>\n</table>\n<p>425 rows \u00d7 8 columns</p>\n</div>",
                        "text/plain": "           Date  CheckIns  ActiveOrganisations  UniqueMobiles  \\\n0    11-30-2020      4015                 1299         3670.0   \n1    12-01-2020    217045                11011       169249.0   \n2    12-02-2020    380087                15241       259931.0   \n3    12-03-2020    472352                16851       304865.0   \n4    12-04-2020    561530                17109       342564.0   \n..          ...       ...                  ...            ...   \n420  01-24-2022   1356855                36598       568446.0   \n421  01-25-2022   1475328                38303       597685.0   \n422  01-26-2022    742380                15643       394654.0   \n423  01-27-2022   1477799                39245       591176.0   \n424  01-28-2022   1534921                38913       605008.0   \n\n     CheckInsCumulative  ActiveOrganisationsCumulative  \\\n0                  4015                           1299   \n1                221060                          11200   \n2                601147                          16892   \n3               1073499                          19989   \n4               1635029                          21721   \n..                  ...                            ...   \n420           615552047                         107334   \n421           617027375                         107384   \n422           617769755                         107438   \n423           619247554                         107479   \n424           620782475                         107536   \n\n     UniqueMobilesCumulative  DeletionsCumulative  \n0                       3670                    0  \n1                     171076                    0  \n2                     345614                    0  \n3                     476447                    0  \n4                     578250                    0  \n..                       ...                  ...  \n420                  2171508            577245149  \n421                  2173110            578410921  \n422                  2174863            580053739  \n423                  2176877            581690286  \n424                  2178906            583257620  \n\n[425 rows x 8 columns]"
                    },
                    "execution_count": 45,
                    "metadata": {},
                    "output_type": "execute_result"
                }
            ],
            "source": "df"
        },
        {
            "cell_type": "code",
            "execution_count": 46,
            "id": "c2ed0f5f-7da9-47c1-8f63-f1581fe1ed20",
            "metadata": {},
            "outputs": [
                {
                    "data": {
                        "text/plain": "(425, 8)"
                    },
                    "execution_count": 46,
                    "metadata": {},
                    "output_type": "execute_result"
                }
            ],
            "source": "df.shape"
        },
        {
            "cell_type": "code",
            "execution_count": 47,
            "id": "ab1e5470-175c-49b6-89be-ab0bc4b662f3",
            "metadata": {},
            "outputs": [
                {
                    "name": "stdout",
                    "output_type": "stream",
                    "text": "Date                             0\nCheckIns                         0\nActiveOrganisations              0\nUniqueMobiles                    2\nCheckInsCumulative               0\nActiveOrganisationsCumulative    0\nUniqueMobilesCumulative          0\nDeletionsCumulative              0\ndtype: int64\n"
                }
            ],
            "source": "print(df.isnull().sum())"
        },
        {
            "cell_type": "code",
            "execution_count": 50,
            "id": "e8e95de3-ff1b-4222-b2fa-0cea919fa153",
            "metadata": {},
            "outputs": [],
            "source": "directory = r\"C:\\Users\\Ajay PC\\Desktop\\Data Science\\Example5.csv\"\n  \n# get fileName from user\nfilepath = directory\n  \n# Creates a new file\nwith open(filepath, 'w+') as fp:\n    pass"
        },
        {
            "cell_type": "code",
            "execution_count": 51,
            "id": "71422f17-fd6b-4dc6-b848-c163757c877b",
            "metadata": {},
            "outputs": [
                {
                    "name": "stdout",
                    "output_type": "stream",
                    "text": "           Date  CheckIns  ActiveOrganisations  UniqueMobiles  \\\n0    11-30-2020      4015                 1299         3670.0   \n1    12-01-2020    217045                11011       169249.0   \n2    12-02-2020    380087                15241       259931.0   \n3    12-03-2020    472352                16851       304865.0   \n4    12-04-2020    561530                17109       342564.0   \n..          ...       ...                  ...            ...   \n420  01-24-2022   1356855                36598       568446.0   \n421  01-25-2022   1475328                38303       597685.0   \n422  01-26-2022    742380                15643       394654.0   \n423  01-27-2022   1477799                39245       591176.0   \n424  01-28-2022   1534921                38913       605008.0   \n\n     CheckInsCumulative  ActiveOrganisationsCumulative  \\\n0                  4015                           1299   \n1                221060                          11200   \n2                601147                          16892   \n3               1073499                          19989   \n4               1635029                          21721   \n..                  ...                            ...   \n420           615552047                         107334   \n421           617027375                         107384   \n422           617769755                         107438   \n423           619247554                         107479   \n424           620782475                         107536   \n\n     UniqueMobilesCumulative  DeletionsCumulative  \n0                       3670                    0  \n1                     171076                    0  \n2                     345614                    0  \n3                     476447                    0  \n4                     578250                    0  \n..                       ...                  ...  \n420                  2171508            577245149  \n421                  2173110            578410921  \n422                  2174863            580053739  \n423                  2176877            581690286  \n424                  2178906            583257620  \n\n[425 rows x 8 columns]\n"
                }
            ],
            "source": "df.to_csv (filepath, index = False, header=True)\n\nprint (df)"
        },
        {
            "cell_type": "code",
            "execution_count": null,
            "id": "1a287a16-d8e9-4878-9ae7-ad3dfb481206",
            "metadata": {},
            "outputs": [],
            "source": ""
        }
    ],
    "metadata": {
        "kernelspec": {
            "display_name": "Python 3 (ipykernel)",
            "language": "python",
            "name": "python3"
        },
        "language_info": {
            "codemirror_mode": {
                "name": "ipython",
                "version": 3
            },
            "file_extension": ".py",
            "mimetype": "text/x-python",
            "name": "python",
            "nbconvert_exporter": "python",
            "pygments_lexer": "ipython3",
            "version": "3.9.7"
        }
    },
    "nbformat": 4,
    "nbformat_minor": 5
}